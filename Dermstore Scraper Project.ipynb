{
 "cells": [
  {
   "cell_type": "code",
   "execution_count": null,
   "id": "2285473c",
   "metadata": {},
   "outputs": [],
   "source": [
    "from bs4 import BeautifulSoup\n",
    "import requests\n",
    "import pandas as pd\n",
    "import numpy as np"
   ]
  },
  {
   "cell_type": "code",
   "execution_count": null,
   "id": "e108b19b",
   "metadata": {},
   "outputs": [],
   "source": [
    "#Function to extract product title\n",
    "def get_title(soup):\n",
    "    try:\n",
    "        title = soup.find('h1', attrs={'class':'productName_title'})\n",
    "        title_value = title.text\n",
    "        title_string = title_value.strip()\n",
    "    except AttributeError:\n",
    "        title_string = ''\n",
    "    return title_string\n",
    "\n",
    "#Function to get product price\n",
    "def get_price(soup):\n",
    "    try:\n",
    "        price = soup.find('p', attrs={'class':'productPrice_price'}).text.strip()\n",
    "    except AttributeError:\n",
    "        price = ''\n",
    "    return price\n",
    "    "
   ]
  },
  {
   "cell_type": "code",
   "execution_count": null,
   "id": "844eb44d",
   "metadata": {},
   "outputs": [],
   "source": [
    "if __name__ == '__main__':\n",
    "    \n",
    "    #Headers for request\n",
    "    headers = ({'User-Agent':'Mozilla/5.0 (Macintosh; Intel Mac OS X 10_15_7) AppleWebKit/537.36 (KHTML, like Gecko) Chrome/114.0.0.0 Safari/537.36', 'Accept-Language': 'en-US, en;q=0.5'})\n",
    "    root = 'https://www.dermstore.com/skin-care.list?pageNumber='\n",
    "    \n",
    "    page = 1\n",
    "    while page != 7:\n",
    "        \n",
    "        #Webpage URL\n",
    "        URL = root + str(page)\n",
    "        print(URL)\n",
    "    \n",
    "        #HTTP request\n",
    "        webpage = requests.get(URL, headers=headers)\n",
    "    \n",
    "        #Soup Object containing all data\n",
    "        soup = BeautifulSoup(webpage.content, 'html.parser')\n",
    "    \n",
    "        #Fetch links as list\n",
    "        links = soup.find_all('a', attrs={'class':'productBlock_link'})\n",
    "        \n",
    "        #Store links\n",
    "        links_list = []\n",
    "    \n",
    "        #Loop for extracting links\n",
    "        for link in links:\n",
    "            links_list.append(link.get('href'))\n",
    "        \n",
    "        d = {'title':[], 'price':[]}\n",
    "    \n",
    "        #Loop for extracting product details from links\n",
    "        for link in links_list:\n",
    "            new_webpage = requests.get('https://www.dermstore.com' + link, headers=headers)\n",
    "            new_soup = BeautifulSoup(new_webpage.content, 'html.parser')\n",
    "        \n",
    "            #Function calls to display product information\n",
    "            d['title'].append(get_title(new_soup))\n",
    "            d['price'].append(get_price(new_soup))\n",
    "            \n",
    "        page = page + 1\n",
    "        \n",
    "    dermstore_df = pd.DataFrame.from_dict(d)\n",
    "    dermstore_df = dermstore_df.drop_duplicates(subset=None, keep='first', inplace=False, ignore_index=True)\n",
    "    print(dermstore_df.head(300))\n"
   ]
  },
  {
   "cell_type": "code",
   "execution_count": null,
   "id": "1818c3de",
   "metadata": {},
   "outputs": [],
   "source": [
    "dermstore_df.to_excel('dermstore.xlsx', header=True, index=False)"
   ]
  }
 ],
 "metadata": {
  "kernelspec": {
   "display_name": "Python 3 (ipykernel)",
   "language": "python",
   "name": "python3"
  },
  "language_info": {
   "codemirror_mode": {
    "name": "ipython",
    "version": 3
   },
   "file_extension": ".py",
   "mimetype": "text/x-python",
   "name": "python",
   "nbconvert_exporter": "python",
   "pygments_lexer": "ipython3",
   "version": "3.10.9"
  }
 },
 "nbformat": 4,
 "nbformat_minor": 5
}
